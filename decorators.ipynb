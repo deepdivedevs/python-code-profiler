{
 "cells": [
  {
   "cell_type": "code",
   "execution_count": 30,
   "id": "5b1c317e-1469-4921-b905-353f23065049",
   "metadata": {},
   "outputs": [],
   "source": [
    "from typing import Callable\n",
    "\n",
    "def calculate(x: int, y: int, op: str) -> Callable:\n",
    "    \"\"\"\n",
    "    Returns a function that carries out an arithmetic operation based on the op parameter\n",
    "    \"\"\"\n",
    "    def add():\n",
    "        return x + y\n",
    "    def subtract():\n",
    "        return x - y\n",
    "        \n",
    "    if op == \"add\":\n",
    "        return add\n",
    "    if op == \"subtract\":\n",
    "        return subtract\n",
    "\n",
    "    raise NotImplementedError(f\"ERROR: operation: {op} not implemented\")"
   ]
  },
  {
   "cell_type": "code",
   "execution_count": 34,
   "id": "16b8841f-e9d3-4c43-a8f0-2abea6917bdf",
   "metadata": {},
   "outputs": [],
   "source": [
    "# Result now refers to the `add()` inner function\n",
    "result = calculate(1, 2, \"add\")"
   ]
  },
  {
   "cell_type": "code",
   "execution_count": 38,
   "id": "238ddf01-1261-43a2-bc71-e8aba4748c5d",
   "metadata": {},
   "outputs": [
    {
     "data": {
      "text/plain": [
       "'add'"
      ]
     },
     "execution_count": 38,
     "metadata": {},
     "output_type": "execute_result"
    }
   ],
   "source": [
    "result.__name__"
   ]
  },
  {
   "cell_type": "code",
   "execution_count": 40,
   "id": "34479049-4c6f-4212-afb2-061a921511ff",
   "metadata": {},
   "outputs": [
    {
     "data": {
      "text/plain": [
       "3"
      ]
     },
     "execution_count": 40,
     "metadata": {},
     "output_type": "execute_result"
    }
   ],
   "source": [
    "# Calling `result` is esentially calling `add()`\n",
    "result()"
   ]
  },
  {
   "cell_type": "code",
   "execution_count": 42,
   "id": "d3ce7c51-ee40-4557-8974-9f9eeebc658d",
   "metadata": {},
   "outputs": [
    {
     "data": {
      "text/plain": [
       "5"
      ]
     },
     "execution_count": 42,
     "metadata": {},
     "output_type": "execute_result"
    }
   ],
   "source": [
    "result = calculate(10, 5, \"subtract\")\n",
    "result()"
   ]
  },
  {
   "cell_type": "code",
   "execution_count": 76,
   "id": "a7daba51-05a8-4d56-b76a-9501f67ce7c1",
   "metadata": {},
   "outputs": [],
   "source": [
    "def decorator(func: Callable) -> Callable:\n",
    "    def wrapper() -> None:\n",
    "        print(\"Before the function is called\")\n",
    "        func()\n",
    "        print(\"After the function is called\")\n",
    "    # A reference to the inner function `wrapper` is returned when `decorator` is called\n",
    "    return wrapper\n",
    "\n",
    "def say_hello():\n",
    "    print(\"Hello!\")\n",
    "\n",
    "def say_bye():\n",
    "    print(\"Bye!\")"
   ]
  },
  {
   "cell_type": "code",
   "execution_count": null,
   "id": "e3780a11-be98-4671-8ccd-aaed10e1a5be",
   "metadata": {},
   "outputs": [],
   "source": [
    "hello = decorator(say_hello)\n",
    "hello()"
   ]
  },
  {
   "cell_type": "code",
   "execution_count": null,
   "id": "2e1e5862-2db6-4bf2-9214-1d2191731137",
   "metadata": {},
   "outputs": [],
   "source": [
    "bye = decorator(say_bye)\n",
    "bye()"
   ]
  },
  {
   "cell_type": "code",
   "execution_count": 106,
   "id": "ea86355b-1227-44a9-82a1-0965b662120a",
   "metadata": {},
   "outputs": [],
   "source": [
    "def decorator(func: Callable) -> Callable:\n",
    "    def wrapper() -> None:\n",
    "        print(\"Before the function is called.\")\n",
    "        func()\n",
    "        print(\"After the function is called.\")\n",
    "    # A reference to the inner function `wrapper` is returned when `decorator` is called\n",
    "    return wrapper"
   ]
  },
  {
   "cell_type": "code",
   "execution_count": 108,
   "id": "22af4312-d31d-44f7-9967-e93a438ecf3b",
   "metadata": {},
   "outputs": [],
   "source": [
    "@decorator\n",
    "def greeting():\n",
    "    print(\"greeting() called\")"
   ]
  },
  {
   "cell_type": "code",
   "execution_count": 110,
   "id": "284d0592-477d-4a3f-a3ab-108f996b6fc0",
   "metadata": {},
   "outputs": [
    {
     "data": {
      "text/plain": [
       "<function __main__.decorator.<locals>.wrapper() -> None>"
      ]
     },
     "execution_count": 110,
     "metadata": {},
     "output_type": "execute_result"
    }
   ],
   "source": [
    "greeting"
   ]
  },
  {
   "cell_type": "code",
   "execution_count": 112,
   "id": "062eed2e-3223-4574-9032-d8d30eb75e97",
   "metadata": {},
   "outputs": [
    {
     "name": "stdout",
     "output_type": "stream",
     "text": [
      "Before the function is called.\n",
      "greeting() called\n",
      "After the function is called.\n"
     ]
    }
   ],
   "source": [
    "greeting()"
   ]
  },
  {
   "cell_type": "code",
   "execution_count": null,
   "id": "f7873300-7509-4925-846b-e442dd19a953",
   "metadata": {},
   "outputs": [],
   "source": [
    "# ^ This is the same thing as this\n",
    "greeting = decorator(greeting)\n",
    "greeting()"
   ]
  },
  {
   "cell_type": "code",
   "execution_count": 233,
   "id": "928a3b25-68bc-430e-8f12-602fbec3bbbe",
   "metadata": {},
   "outputs": [],
   "source": [
    "def decorator(func: Callable) -> Callable:\n",
    "    def wrapper(*args, **kwargs):\n",
    "        print(f\"Positional arguments: {args}\")\n",
    "        print(f\"Keyword arguments: {kwargs}\")\n",
    "        \n",
    "        result = func(*args, **kwargs)\n",
    "\n",
    "        print(\"After function is called\")\n",
    "\n",
    "        return result\n",
    "    return wrapper\n",
    "\n",
    "@decorator\n",
    "def add_first_n(lst: list, n: int) -> int:\n",
    "    sum = 0\n",
    "    for i in range(0, n):\n",
    "        sum += i\n",
    "    return sum"
   ]
  },
  {
   "cell_type": "code",
   "execution_count": 235,
   "id": "ae04e92a-ff9f-4040-bfd7-88223ca69d65",
   "metadata": {},
   "outputs": [
    {
     "data": {
      "text/plain": [
       "<function __main__.decorator.<locals>.wrapper(*args, **kwargs)>"
      ]
     },
     "execution_count": 235,
     "metadata": {},
     "output_type": "execute_result"
    }
   ],
   "source": [
    "add_first_n"
   ]
  },
  {
   "cell_type": "code",
   "execution_count": 237,
   "id": "0d657563-96d1-4d3f-82d0-329323ebb9c0",
   "metadata": {},
   "outputs": [
    {
     "name": "stdout",
     "output_type": "stream",
     "text": [
      "Positional arguments: ([0, 1, 2, 3, 4, 5, 6, 7, 8, 9],)\n",
      "Keyword arguments: {'n': 5}\n",
      "After function is called\n"
     ]
    }
   ],
   "source": [
    "sum = add_first_n([i for i in range(0, 10)], n=5)"
   ]
  },
  {
   "cell_type": "code",
   "execution_count": 239,
   "id": "a8c931d5-6d19-45cc-ace8-3caa06296336",
   "metadata": {},
   "outputs": [
    {
     "data": {
      "text/plain": [
       "10"
      ]
     },
     "execution_count": 239,
     "metadata": {},
     "output_type": "execute_result"
    }
   ],
   "source": [
    "sum"
   ]
  }
 ],
 "metadata": {
  "kernelspec": {
   "display_name": "Python 3 (ipykernel)",
   "language": "python",
   "name": "python3"
  },
  "language_info": {
   "codemirror_mode": {
    "name": "ipython",
    "version": 3
   },
   "file_extension": ".py",
   "mimetype": "text/x-python",
   "name": "python",
   "nbconvert_exporter": "python",
   "pygments_lexer": "ipython3",
   "version": "3.12.4"
  }
 },
 "nbformat": 4,
 "nbformat_minor": 5
}
